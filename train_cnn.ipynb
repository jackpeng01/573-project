{
 "cells": [
  {
   "cell_type": "code",
   "execution_count": 1,
   "id": "57749f65",
   "metadata": {},
   "outputs": [],
   "source": [
    "import matplotlib.pyplot as plt\n",
    "import numpy as np\n",
    "import pandas as pd\n",
    "from sklearn.model_selection import train_test_split\n",
    "import torch\n",
    "import torch.nn as nn\n",
    "import torch.nn.functional as F\n",
    "import torch.optim as optim\n",
    "from torch.utils.data import TensorDataset, DataLoader\n",
    "from torchsummary import summary # type: ignore"
   ]
  },
  {
   "cell_type": "code",
   "execution_count": 2,
   "id": "71dde48a",
   "metadata": {},
   "outputs": [],
   "source": [
    "# Define a Convolutional Neural Network.\n",
    "\n",
    "\n",
    "class Net(nn.Module):\n",
    "    def __init__(self) -> None:\n",
    "        super().__init__()\n",
    "        self.conv1 = nn.Conv2d(1, 16, 3)  # Output: (N, 16, 34, 34)\n",
    "        self.pool = nn.MaxPool2d(2, 2)  # After pool: (N, 16, 17, 17)\n",
    "        self.conv2 = nn.Conv2d(16, 16, 3)  # Output: (N, 16, 15, 15)\n",
    "        # After pool: (N, 16, 7, 7)\n",
    "        self.fc1 = nn.Linear(16 * 7 * 7, 128)  # (784, 120)\n",
    "        self.fc2 = nn.Linear(128, 2)\n",
    "\n",
    "    def forward(self, x):\n",
    "        x = self.pool(F.relu(self.conv1(x)))\n",
    "        x = self.pool(F.relu(self.conv2(x)))\n",
    "        x = torch.flatten(x, 1)  # flatten all dimensions except batch\n",
    "        x = F.relu(self.fc1(x))\n",
    "        x = self.fc2(x)\n",
    "        return x\n",
    "\n",
    "\n",
    "net = Net()"
   ]
  },
  {
   "cell_type": "code",
   "execution_count": 3,
   "id": "26d46e06",
   "metadata": {},
   "outputs": [],
   "source": [
    "# Move the net to GPU, if available.\n",
    "device = \"cuda\" if torch.cuda.is_available() else \"cpu\"\n",
    "net = net.to(device)"
   ]
  },
  {
   "cell_type": "code",
   "execution_count": 4,
   "id": "e788c6bd",
   "metadata": {},
   "outputs": [],
   "source": [
    "# Define a Loss function and optimizer.\n",
    "loss = nn.CrossEntropyLoss()\n",
    "optimizer = optim.SGD(net.parameters(), lr=0.001, momentum=0.9)"
   ]
  },
  {
   "cell_type": "code",
   "execution_count": 5,
   "id": "f1bf93db",
   "metadata": {},
   "outputs": [],
   "source": [
    "# Load dataset.\n",
    "fname = \"data/LSWMD_dataset.pkl\"  # If it doesn't exists run 'LSWMD-explore.ipynb'.\n",
    "df = pd.read_pickle(fname)\n",
    "\n",
    "X = np.array([x for x in df[\"X\"].to_numpy()])\n",
    "Y = df[\"Y\"].to_numpy(dtype=np.uint8)\n",
    "\n",
    "# Split data into training and testing.\n",
    "X_train, X_test, y_train, y_test = train_test_split(X, Y, test_size=0.2)\n",
    "\n",
    "# Convert numpy data to pytorch tensors.\n",
    "train_tensor_data = torch.from_numpy(X_train).unsqueeze(1).float()  # Add channel of 1.\n",
    "train_tensor_labels = torch.from_numpy(y_train).long()\n",
    "\n",
    "test_tensor_data = torch.from_numpy(X_test).unsqueeze(1).float()  # Add channel of 1.\n",
    "test_tensor_labels = torch.from_numpy(y_test).long()"
   ]
  },
  {
   "cell_type": "code",
   "execution_count": 6,
   "id": "3fc820ab",
   "metadata": {},
   "outputs": [],
   "source": [
    "# Load tensor data.\n",
    "train_dataset = TensorDataset(train_tensor_data, train_tensor_labels)\n",
    "train_dataloader = DataLoader(train_dataset, batch_size=64, shuffle=True)\n",
    "\n",
    "test_dataset = TensorDataset(test_tensor_data, test_tensor_labels)\n",
    "test_dataloader = DataLoader(test_dataset, batch_size=64, shuffle=True)"
   ]
  },
  {
   "cell_type": "code",
   "execution_count": 7,
   "id": "b44406ea",
   "metadata": {},
   "outputs": [
    {
     "name": "stdout",
     "output_type": "stream",
     "text": [
      "----------------------------------------------------------------\n",
      "        Layer (type)               Output Shape         Param #\n",
      "================================================================\n",
      "            Conv2d-1           [-1, 16, 34, 34]             160\n",
      "         MaxPool2d-2           [-1, 16, 17, 17]               0\n",
      "            Conv2d-3           [-1, 16, 15, 15]           2,320\n",
      "         MaxPool2d-4             [-1, 16, 7, 7]               0\n",
      "            Linear-5                  [-1, 128]         100,480\n",
      "            Linear-6                    [-1, 2]             258\n",
      "================================================================\n",
      "Total params: 103,218\n",
      "Trainable params: 103,218\n",
      "Non-trainable params: 0\n",
      "----------------------------------------------------------------\n",
      "Input size (MB): 0.00\n",
      "Forward/backward pass size (MB): 0.21\n",
      "Params size (MB): 0.39\n",
      "Estimated Total Size (MB): 0.61\n",
      "----------------------------------------------------------------\n"
     ]
    }
   ],
   "source": [
    "summary(net, train_tensor_data.shape[1:])"
   ]
  },
  {
   "cell_type": "code",
   "execution_count": 8,
   "id": "5bd1204f",
   "metadata": {},
   "outputs": [
    {
     "ename": "KeyboardInterrupt",
     "evalue": "",
     "output_type": "error",
     "traceback": [
      "\u001b[0;31m---------------------------------------------------------------------------\u001b[0m",
      "\u001b[0;31mKeyboardInterrupt\u001b[0m                         Traceback (most recent call last)",
      "Cell \u001b[0;32mIn[8], line 16\u001b[0m\n\u001b[1;32m     14\u001b[0m     outputs \u001b[38;5;241m=\u001b[39m net(batch_data)\n\u001b[1;32m     15\u001b[0m     loss_out \u001b[38;5;241m=\u001b[39m loss(outputs, batch_labels)\n\u001b[0;32m---> 16\u001b[0m     loss_out\u001b[38;5;241m.\u001b[39mbackward()\n\u001b[1;32m     17\u001b[0m     optimizer\u001b[38;5;241m.\u001b[39mstep()\n\u001b[1;32m     19\u001b[0m losses\u001b[38;5;241m.\u001b[39mappend(loss_out\u001b[38;5;241m.\u001b[39mitem())\n",
      "File \u001b[0;32m~/.conda/envs/cent7/2024.02-py311/CS587/lib/python3.11/site-packages/torch/_tensor.py:581\u001b[0m, in \u001b[0;36mTensor.backward\u001b[0;34m(self, gradient, retain_graph, create_graph, inputs)\u001b[0m\n\u001b[1;32m    571\u001b[0m \u001b[38;5;28;01mif\u001b[39;00m has_torch_function_unary(\u001b[38;5;28mself\u001b[39m):\n\u001b[1;32m    572\u001b[0m     \u001b[38;5;28;01mreturn\u001b[39;00m handle_torch_function(\n\u001b[1;32m    573\u001b[0m         Tensor\u001b[38;5;241m.\u001b[39mbackward,\n\u001b[1;32m    574\u001b[0m         (\u001b[38;5;28mself\u001b[39m,),\n\u001b[0;32m   (...)\u001b[0m\n\u001b[1;32m    579\u001b[0m         inputs\u001b[38;5;241m=\u001b[39minputs,\n\u001b[1;32m    580\u001b[0m     )\n\u001b[0;32m--> 581\u001b[0m torch\u001b[38;5;241m.\u001b[39mautograd\u001b[38;5;241m.\u001b[39mbackward(\n\u001b[1;32m    582\u001b[0m     \u001b[38;5;28mself\u001b[39m, gradient, retain_graph, create_graph, inputs\u001b[38;5;241m=\u001b[39minputs\n\u001b[1;32m    583\u001b[0m )\n",
      "File \u001b[0;32m~/.conda/envs/cent7/2024.02-py311/CS587/lib/python3.11/site-packages/torch/autograd/__init__.py:347\u001b[0m, in \u001b[0;36mbackward\u001b[0;34m(tensors, grad_tensors, retain_graph, create_graph, grad_variables, inputs)\u001b[0m\n\u001b[1;32m    342\u001b[0m     retain_graph \u001b[38;5;241m=\u001b[39m create_graph\n\u001b[1;32m    344\u001b[0m \u001b[38;5;66;03m# The reason we repeat the same comment below is that\u001b[39;00m\n\u001b[1;32m    345\u001b[0m \u001b[38;5;66;03m# some Python versions print out the first line of a multi-line function\u001b[39;00m\n\u001b[1;32m    346\u001b[0m \u001b[38;5;66;03m# calls in the traceback and some print out the last line\u001b[39;00m\n\u001b[0;32m--> 347\u001b[0m _engine_run_backward(\n\u001b[1;32m    348\u001b[0m     tensors,\n\u001b[1;32m    349\u001b[0m     grad_tensors_,\n\u001b[1;32m    350\u001b[0m     retain_graph,\n\u001b[1;32m    351\u001b[0m     create_graph,\n\u001b[1;32m    352\u001b[0m     inputs,\n\u001b[1;32m    353\u001b[0m     allow_unreachable\u001b[38;5;241m=\u001b[39m\u001b[38;5;28;01mTrue\u001b[39;00m,\n\u001b[1;32m    354\u001b[0m     accumulate_grad\u001b[38;5;241m=\u001b[39m\u001b[38;5;28;01mTrue\u001b[39;00m,\n\u001b[1;32m    355\u001b[0m )\n",
      "File \u001b[0;32m~/.conda/envs/cent7/2024.02-py311/CS587/lib/python3.11/site-packages/torch/autograd/graph.py:825\u001b[0m, in \u001b[0;36m_engine_run_backward\u001b[0;34m(t_outputs, *args, **kwargs)\u001b[0m\n\u001b[1;32m    823\u001b[0m     unregister_hooks \u001b[38;5;241m=\u001b[39m _register_logging_hooks_on_whole_graph(t_outputs)\n\u001b[1;32m    824\u001b[0m \u001b[38;5;28;01mtry\u001b[39;00m:\n\u001b[0;32m--> 825\u001b[0m     \u001b[38;5;28;01mreturn\u001b[39;00m Variable\u001b[38;5;241m.\u001b[39m_execution_engine\u001b[38;5;241m.\u001b[39mrun_backward(  \u001b[38;5;66;03m# Calls into the C++ engine to run the backward pass\u001b[39;00m\n\u001b[1;32m    826\u001b[0m         t_outputs, \u001b[38;5;241m*\u001b[39margs, \u001b[38;5;241m*\u001b[39m\u001b[38;5;241m*\u001b[39mkwargs\n\u001b[1;32m    827\u001b[0m     )  \u001b[38;5;66;03m# Calls into the C++ engine to run the backward pass\u001b[39;00m\n\u001b[1;32m    828\u001b[0m \u001b[38;5;28;01mfinally\u001b[39;00m:\n\u001b[1;32m    829\u001b[0m     \u001b[38;5;28;01mif\u001b[39;00m attach_logging_hooks:\n",
      "\u001b[0;31mKeyboardInterrupt\u001b[0m: "
     ]
    }
   ],
   "source": [
    "# Train CNN model.\n",
    "num_epochs = 15\n",
    "losses = []\n",
    "for epoch in range(num_epochs):\n",
    "    for batch_data, batch_labels in train_dataloader:\n",
    "        # Zero gradients.\n",
    "        optimizer.zero_grad()\n",
    "\n",
    "        # Move data to gpu, if available.\n",
    "        batch_data = batch_data.to(device)\n",
    "        batch_labels = batch_labels.to(device)\n",
    "\n",
    "        # forward + backward + optimize.\n",
    "        outputs = net(batch_data)\n",
    "        loss_out = loss(outputs, batch_labels)\n",
    "        loss_out.backward()\n",
    "        optimizer.step()\n",
    "\n",
    "    losses.append(loss_out.item())\n",
    "    print(f\"Epoch [{epoch+1}/{num_epochs}], Loss: {losses[-1]:.4f}\")\n",
    "\n",
    "print(\"Finished Training\")"
   ]
  },
  {
   "cell_type": "code",
   "execution_count": null,
   "id": "50864310",
   "metadata": {},
   "outputs": [
    {
     "data": {
      "image/png": "[encoded data removed]",
      "text/plain": [
       "<Figure size 1000x600 with 1 Axes>"
      ]
     },
     "metadata": {},
     "output_type": "display_data"
    }
   ],
   "source": [
    "epochs = list(range(1, 16))\n",
    "\n",
    "# Plot\n",
    "plt.figure(figsize=(10, 6))\n",
    "plt.plot(epochs, losses, marker='o', linestyle='-', color='b')\n",
    "plt.title('Training Loss Over Epochs')\n",
    "plt.xlabel('Epoch')\n",
    "plt.ylabel('Loss')\n",
    "plt.xticks(epochs)\n",
    "plt.grid(True)\n",
    "plt.tight_layout()\n",
    "plt.show()\n"
   ]
  },
  {
   "cell_type": "code",
   "execution_count": null,
   "id": "67fb72dc",
   "metadata": {},
   "outputs": [],
   "source": [
    "# Helper function for evaluation.\n",
    "\n",
    "\n",
    "def evaluate(\n",
    "    model: nn.Module,\n",
    "    criterion: nn.Module,\n",
    "    minibatcher: DataLoader,\n",
    "    device: str,\n",
    ") -> float:\n",
    "    R\"\"\"\n",
    "    Evaluate.\n",
    "    \"\"\"\n",
    "    model.eval()\n",
    "\n",
    "    buf_total = []\n",
    "    buf_metric = []\n",
    "    for inputs, targets in minibatcher:\n",
    "        inputs = inputs.to(device)\n",
    "        targets = targets.to(device)\n",
    "\n",
    "        with torch.no_grad():\n",
    "            outputs = model(inputs)\n",
    "            total = len(targets)\n",
    "            metric = criterion.forward(outputs, targets).item()\n",
    "        buf_total.append(total)\n",
    "        buf_metric.append(metric * total)\n",
    "\n",
    "    return float(sum(buf_metric)) / float(sum(buf_total))\n",
    "\n",
    "\n",
    "class Accuracy(nn.Module):\n",
    "    R\"\"\"\n",
    "    Accuracy module.\n",
    "    \"\"\"\n",
    "\n",
    "    def forward(\n",
    "        self,\n",
    "        output: torch.Tensor,\n",
    "        target: torch.Tensor,\n",
    "        /,\n",
    "    ) -> torch.Tensor:\n",
    "        R\"\"\"\n",
    "        Forward.\n",
    "        \"\"\"\n",
    "        return torch.sum(torch.argmax(output, dim=1) == target) / len(target)"
   ]
  },
  {
   "cell_type": "code",
   "execution_count": null,
   "id": "0c635eb7",
   "metadata": {},
   "outputs": [
    {
     "name": "stdout",
     "output_type": "stream",
     "text": [
      "Train Loss: 0.109068\n",
      " Train Acc: 0.961272\n",
      "  Test Acc: 0.957298\n"
     ]
    }
   ],
   "source": [
    "# Evaluate model.\n",
    "metric = Accuracy()\n",
    "\n",
    "ce_train = evaluate(net, loss, train_dataloader, device=device)\n",
    "acc_train = evaluate(net, metric, train_dataloader, device=device)\n",
    "acc_test = evaluate(net, metric, test_dataloader, device=device)\n",
    "\n",
    "print(\"Train Loss: {:.6f}\".format(ce_train))\n",
    "print(\" Train Acc: {:.6f}\".format(acc_train))\n",
    "print(\"  Test Acc: {:.6f}\".format(acc_test))"
   ]
  },
  {
   "cell_type": "code",
   "execution_count": null,
   "id": "30a4d8cd",
   "metadata": {},
   "outputs": [],
   "source": [
    "# Original data\n",
    "# Train Loss: 0.063256\n",
    "#  Train Acc: 0.978910\n",
    "#   Test Acc: 0.969500\n",
    "\n",
    "# With extra fault samples.\n",
    "# Train Loss: 0.109068\n",
    "#  Train Acc: 0.961272\n",
    "#   Test Acc: 0.957298"
   ]
  },
  {
   "cell_type": "code",
   "execution_count": null,
   "id": "b48efd80",
   "metadata": {},
   "outputs": [],
   "source": [
    "from sklearn.metrics import (\n",
    "    precision_score,\n",
    "    recall_score,\n",
    "    f1_score,\n",
    "    roc_auc_score,\n",
    "    classification_report,\n",
    ")\n",
    "\n",
    "# Predict probabilties.\n",
    "net.eval()\n",
    "pred_test = net(X_test)\n",
    "\n",
    "# Compute loss.\n",
    "loss_out = loss(pred_test, y_test)\n",
    "\n",
    "# Predict classes.\n",
    "y_hat_test = np.argmax(pred_test, axis=1)\n",
    "\n",
    "# Compute evaluation metrics.\n",
    "precision = precision_score(y_test, y_hat_test)\n",
    "recall = recall_score(y_test, y_hat_test)\n",
    "f1 = f1_score(y_test, y_hat_test)\n",
    "auc = roc_auc_score(y_test, pred_test)\n",
    "\n",
    "print(\"Precision:\", precision)\n",
    "print(\"Recall:\", recall)\n",
    "print(\"F1-Score:\", f1)\n",
    "print(\"AUC:\", auc)\n",
    "\n",
    "# Optional: Detailed classification report (includes support, etc.).\n",
    "print(\n",
    "    \"\\nClassification Report:\\n\", classification_report(y_test, y_hat_test)\n",
    ")\n",
    "\n",
    "print(f\"Test Loss: {loss_out}\")\n",
    "print(f\"Test Accuracy: {np.sum(y_hat_test == y_test) / len(y_test)}\")\n",
    "print(f\"Total test images: {X_test.shape[0]}\")"
   ]
  }
 ],
 "metadata": {
  "kernelspec": {
   "display_name": "Python 3",
   "language": "python",
   "name": "python3"
  },
  "language_info": {
   "codemirror_mode": {
    "name": "ipython",
    "version": 3
   },
   "file_extension": ".py",
   "mimetype": "text/x-python",
   "name": "python",
   "nbconvert_exporter": "python",
   "pygments_lexer": "ipython3",
   "version": "3.11.11"
  }
 },
 "nbformat": 4,
 "nbformat_minor": 5
}
