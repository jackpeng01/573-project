{
 "cells": [
  {
   "cell_type": "code",
   "execution_count": 2,
   "id": "57749f65",
   "metadata": {},
   "outputs": [],
   "source": [
    "import numpy as np\n",
    "import pandas as pd\n",
    "from sklearn.model_selection import train_test_split\n",
    "import torch\n",
    "import torch.nn as nn\n",
    "import torch.nn.functional as F\n",
    "import torch.optim as optim\n",
    "from torch.utils.data import TensorDataset, DataLoader"
   ]
  },
  {
   "cell_type": "code",
   "execution_count": 4,
   "id": "71dde48a",
   "metadata": {},
   "outputs": [],
   "source": [
    "# Define a Convolutional Neural Network.\n",
    "\n",
    "\n",
    "class Net(nn.Module):\n",
    "    def __init__(self) -> None:\n",
    "        super().__init__()\n",
    "        self.conv1 = nn.Conv2d(1, 16, 3)  # Output: (N, 16, 34, 34)\n",
    "        self.pool = nn.MaxPool2d(2, 2)  # After pool: (N, 16, 17, 17)\n",
    "        self.conv2 = nn.Conv2d(16, 16, 3)  # Output: (N, 16, 15, 15)\n",
    "        # After pool: (N, 16, 7, 7)\n",
    "        self.fc1 = nn.Linear(16 * 7 * 7, 128)  # (784, 120)\n",
    "        self.fc2 = nn.Linear(128, 2)\n",
    "\n",
    "    def forward(self, x):\n",
    "        x = self.pool(F.relu(self.conv1(x)))\n",
    "        x = self.pool(F.relu(self.conv2(x)))\n",
    "        x = torch.flatten(x, 1)  # flatten all dimensions except batch\n",
    "        x = F.relu(self.fc1(x))\n",
    "        x = self.fc2(x)\n",
    "        return x\n",
    "\n",
    "\n",
    "net = Net()"
   ]
  },
  {
   "cell_type": "code",
   "execution_count": 5,
   "id": "26d46e06",
   "metadata": {},
   "outputs": [],
   "source": [
    "# Move the net to GPU, if available.\n",
    "device = \"cuda\" if torch.cuda.is_available() else \"cpu\"\n",
    "net = net.to(device)"
   ]
  },
  {
   "cell_type": "code",
   "execution_count": 6,
   "id": "e788c6bd",
   "metadata": {},
   "outputs": [],
   "source": [
    "# Define a Loss function and optimizer.\n",
    "loss = nn.CrossEntropyLoss()\n",
    "optimizer = optim.SGD(net.parameters(), lr=0.001, momentum=0.9)"
   ]
  },
  {
   "cell_type": "code",
   "execution_count": null,
   "id": "e1069758",
   "metadata": {},
   "outputs": [],
   "source": [
    "# Load dataset.\n",
    "fname = \"data/LSWMD_dataset.pkl\"    # If it doesn't exists run 'LSWMD-explore.ipynb'.\n",
    "df = pd.read_pickle(fname)\n",
    "\n",
    "X = np.array([x for x in df[\"X\"].to_numpy()])\n",
    "Y = df[\"Y\"].to_numpy(dtype=np.uint8)"
   ]
  },
  {
   "cell_type": "code",
   "execution_count": 19,
   "id": "f1bf93db",
   "metadata": {},
   "outputs": [],
   "source": [
    "# Split data into training and testing.\n",
    "X_train, X_test, y_train, y_test = train_test_split(X, Y, test_size=0.2)\n",
    "\n",
    "# Convert numpy data to pytorch tensors.\n",
    "train_tensor_data = torch.from_numpy(X_train).unsqueeze(1).float()  # Add channel of 1.\n",
    "train_tensor_labels = torch.from_numpy(y_train).long()\n",
    "\n",
    "test_tensor_data = torch.from_numpy(X_test).unsqueeze(1).float()  # Add channel of 1.\n",
    "test_tensor_labels = torch.from_numpy(y_test).long()"
   ]
  },
  {
   "cell_type": "code",
   "execution_count": 20,
   "id": "3fc820ab",
   "metadata": {},
   "outputs": [],
   "source": [
    "# Load tensor data.\n",
    "train_dataset = TensorDataset(train_tensor_data, train_tensor_labels)\n",
    "train_dataloader = DataLoader(train_dataset, batch_size=64, shuffle=True)\n",
    "\n",
    "test_dataset = TensorDataset(test_tensor_data, test_tensor_labels)\n",
    "test_dataloader = DataLoader(test_dataset, batch_size=64, shuffle=True)"
   ]
  },
  {
   "cell_type": "code",
   "execution_count": 21,
   "id": "5bd1204f",
   "metadata": {},
   "outputs": [
    {
     "name": "stdout",
     "output_type": "stream",
     "text": [
      "Epoch [1/15], Loss: 0.4783\n",
      "Epoch [2/15], Loss: 0.4278\n",
      "Epoch [3/15], Loss: 0.1797\n",
      "Epoch [4/15], Loss: 0.1243\n",
      "Epoch [5/15], Loss: 0.1094\n",
      "Epoch [6/15], Loss: 0.1342\n",
      "Epoch [7/15], Loss: 0.1314\n",
      "Epoch [8/15], Loss: 0.1666\n",
      "Epoch [9/15], Loss: 0.1099\n",
      "Epoch [10/15], Loss: 0.1680\n",
      "Epoch [11/15], Loss: 0.1763\n",
      "Epoch [12/15], Loss: 0.1298\n",
      "Epoch [13/15], Loss: 0.1213\n",
      "Epoch [14/15], Loss: 0.2292\n",
      "Epoch [15/15], Loss: 0.0805\n",
      "Finished Training\n"
     ]
    }
   ],
   "source": [
    "# Train CNN model.\n",
    "num_epochs = 15\n",
    "\n",
    "for epoch in range(num_epochs):\n",
    "    for batch_data, batch_labels in train_dataloader:\n",
    "        # Zero gradients.\n",
    "        optimizer.zero_grad()\n",
    "\n",
    "        # Move data to gpu, if available.\n",
    "        batch_data = batch_data.to(device)\n",
    "        batch_labels = batch_labels.to(device)\n",
    "\n",
    "        # forward + backward + optimize.\n",
    "        outputs = net(batch_data)\n",
    "        loss_out = loss(outputs, batch_labels)\n",
    "        loss_out.backward()\n",
    "        optimizer.step()\n",
    "\n",
    "    print(f\"Epoch [{epoch+1}/{num_epochs}], Loss: {loss_out.item():.4f}\")\n",
    "\n",
    "print(\"Finished Training\")"
   ]
  },
  {
   "cell_type": "code",
   "execution_count": 22,
   "id": "67fb72dc",
   "metadata": {},
   "outputs": [],
   "source": [
    "# Helper function for evaluation.\n",
    "\n",
    "\n",
    "def evaluate(\n",
    "    model: nn.Module,\n",
    "    criterion: nn.Module,\n",
    "    minibatcher: DataLoader,\n",
    "    device: str,\n",
    ") -> float:\n",
    "    R\"\"\"\n",
    "    Evaluate.\n",
    "    \"\"\"\n",
    "    model.eval()\n",
    "\n",
    "    buf_total = []\n",
    "    buf_metric = []\n",
    "    for inputs, targets in minibatcher:\n",
    "        inputs = inputs.to(device)\n",
    "        targets = targets.to(device)\n",
    "\n",
    "        with torch.no_grad():\n",
    "            outputs = model(inputs)\n",
    "            total = len(targets)\n",
    "            metric = criterion.forward(outputs, targets).item()\n",
    "        buf_total.append(total)\n",
    "        buf_metric.append(metric * total)\n",
    "\n",
    "    return float(sum(buf_metric)) / float(sum(buf_total))\n",
    "\n",
    "\n",
    "class Accuracy(nn.Module):\n",
    "    R\"\"\"\n",
    "    Accuracy module.\n",
    "    \"\"\"\n",
    "\n",
    "    def forward(\n",
    "        self,\n",
    "        output: torch.Tensor,\n",
    "        target: torch.Tensor,\n",
    "        /,\n",
    "    ) -> torch.Tensor:\n",
    "        R\"\"\"\n",
    "        Forward.\n",
    "        \"\"\"\n",
    "        return torch.sum(torch.argmax(output, dim=1) == target) / len(target)"
   ]
  },
  {
   "cell_type": "code",
   "execution_count": 23,
   "id": "0c635eb7",
   "metadata": {},
   "outputs": [
    {
     "name": "stdout",
     "output_type": "stream",
     "text": [
      "Train Loss: 0.109068\n",
      " Train Acc: 0.961272\n",
      "  Test Acc: 0.957298\n"
     ]
    }
   ],
   "source": [
    "# Evaluate model.\n",
    "metric = Accuracy()\n",
    "\n",
    "ce_train = evaluate(net, loss, train_dataloader, device=device)\n",
    "acc_train = evaluate(net, metric, train_dataloader, device=device)\n",
    "acc_test = evaluate(net, metric, test_dataloader, device=device)\n",
    "\n",
    "print(\"Train Loss: {:.6f}\".format(ce_train))\n",
    "print(\" Train Acc: {:.6f}\".format(acc_train))\n",
    "print(\"  Test Acc: {:.6f}\".format(acc_test))"
   ]
  },
  {
   "cell_type": "code",
   "execution_count": null,
   "id": "30a4d8cd",
   "metadata": {},
   "outputs": [],
   "source": [
    "# Original data\n",
    "# Train Loss: 0.063256\n",
    "#  Train Acc: 0.978910\n",
    "#   Test Acc: 0.969500\n",
    "\n",
    "# With extra fault samples.\n",
    "# Train Loss: 0.109068\n",
    "#  Train Acc: 0.961272\n",
    "#   Test Acc: 0.957298"
   ]
  }
 ],
 "metadata": {
  "kernelspec": {
   "display_name": "Python 3",
   "language": "python",
   "name": "python3"
  },
  "language_info": {
   "codemirror_mode": {
    "name": "ipython",
    "version": 3
   },
   "file_extension": ".py",
   "mimetype": "text/x-python",
   "name": "python",
   "nbconvert_exporter": "python",
   "pygments_lexer": "ipython3",
   "version": "3.11.11"
  }
 },
 "nbformat": 4,
 "nbformat_minor": 5
}
